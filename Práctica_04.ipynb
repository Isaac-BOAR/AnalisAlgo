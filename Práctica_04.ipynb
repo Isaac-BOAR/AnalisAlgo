{
  "nbformat": 4,
  "nbformat_minor": 0,
  "metadata": {
    "colab": {
      "name": "Práctica 04.ipynb",
      "provenance": []
    },
    "kernelspec": {
      "name": "python3",
      "display_name": "Python 3"
    }
  },
  "cells": [
    {
      "cell_type": "code",
      "metadata": {
        "colab": {
          "base_uri": "https://localhost:8080/"
        },
        "id": "TlYlvjoGnJwJ",
        "outputId": "d444b98d-e6bf-46cf-c4e7-1f8804aee311"
      },
      "source": [
        "!pip install big-O-calculator´\n",
        "from math import sqrt\n",
        "from bigO import bigO\n",
        "from random import randint"
      ],
      "execution_count": null,
      "outputs": [
        {
          "output_type": "stream",
          "text": [
            "Collecting big-O-calculator\n",
            "  Downloading https://files.pythonhosted.org/packages/f3/e1/8abcd5ba0b2c249d25c1f16cc8aa9838c993061ce322b0ac5ed42251a5d0/big_O_calculator-0.0.9.8.2-py3-none-any.whl\n",
            "Installing collected packages: big-O-calculator\n",
            "Successfully installed big-O-calculator-0.0.9.8.2\n"
          ],
          "name": "stdout"
        }
      ]
    },
    {
      "cell_type": "markdown",
      "metadata": {
        "id": "6tVnuoESnU7j"
      },
      "source": [
        "# **Algoritmo 1**"
      ]
    },
    {
      "cell_type": "code",
      "metadata": {
        "id": "F1ZzbufdQxwv"
      },
      "source": [
        "from bigO import bigO\n",
        "from bigO import algorithm\n",
        "from random import randint\n",
        "\n",
        "def selectionSort(array):  # in-place, unstable\n",
        "    '''\n",
        "    Best : O(n^2) Time | O(1) Space\n",
        "    Average : O(n^2) Time | O(1) Space\n",
        "    Worst : O(n^2) Time | O(1) Space\n",
        "    '''\n",
        "    currentIdx = 0\n",
        "    while currentIdx < len(array) - 1:\n",
        "        smallestIdx = currentIdx\n",
        "        for i in range(currentIdx + 1, len(array)):\n",
        "            if array[smallestIdx] > array[i]:\n",
        "                smallestIdx = i\n",
        "        array[currentIdx], array[smallestIdx] = array[smallestIdx], array[currentIdx]\n",
        "        currentIdx += 1\n",
        "    return array\n",
        "\n",
        "tester = bigO()\n",
        "complexity, time = tester.test(selectionSort, \"random\")\n",
        "complexity, time = tester.test(selectionSort, \"sorted\")\n",
        "complexity, time = tester.test(selectionSort, \"reversed\")\n",
        "complexity, time = tester.test(selectionSort, \"partial\")\n",
        "complexity, time = tester.test(selectionSort, \"Ksorted\")"
      ],
      "execution_count": null,
      "outputs": []
    },
    {
      "cell_type": "markdown",
      "metadata": {
        "id": "zoyVTvNunseF"
      },
      "source": [
        "# **Algortimo 2**"
      ]
    },
    {
      "cell_type": "code",
      "metadata": {
        "id": "4MSHkZWPnv1-"
      },
      "source": [
        "from bigO import utils\n",
        "\n",
        "@utils.isSorted\n",
        "def bubbleSort(array):  # in-place | stable\n",
        "    isSorted = False\n",
        "    counter = 1  # not correct\n",
        "    while not isSorted:\n",
        "        isSorted = True\n",
        "        for i in range(len(array) - 1 - counter):\n",
        "            if array[i] > array[i + 1]:\n",
        "                array[i], array[i + 1] = array[i + 1], array[i]\n",
        "                isSorted = False\n",
        "\n",
        "        counter += 1\n",
        "\n",
        "    return array\n",
        "\n",
        "\n",
        "if __name__ == \"__main__\":\n",
        "    bubbleSort(bigO.genRandomArray(100))"
      ],
      "execution_count": null,
      "outputs": []
    }
  ]
}